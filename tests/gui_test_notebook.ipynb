{
 "cells": [
  {
   "cell_type": "code",
   "execution_count": 16,
   "metadata": {
    "collapsed": true
   },
   "outputs": [],
   "source": [
    "from AlyxToNWB.alyx_to_nwb_gui import Alyx2NWBGui\n",
    "from oneibl.one import ONE\n",
    "from AlyxToNWB.alyx_to_nwb_converter import Alyx2NWBConverter\n",
    "from AlyxToNWB.alyx_to_nwb_metadata import Alyx2NWBMetadata"
   ]
  },
  {
   "cell_type": "code",
   "execution_count": 18,
   "metadata": {
    "collapsed": false,
    "pycharm": {
     "name": "#%%\n"
    }
   },
   "outputs": [
    {
     "name": "stdout",
     "output_type": "stream",
     "text": [
      "Connected to https://dev.alyx.internationalbrainlab.org as saksham.sharda\n",
      "248\n"
     ]
    }
   ],
   "source": [
    "# Making ONE object with default settings\n",
    "one=ONE()\n",
    "dataset_types = ['spikes.times',\n",
    "                 'spikes.clusters']\n",
    "users = 'olivier'\n",
    "date_range = ['2018-08-24', '2018-08-24']\n",
    "task_protocol = 'ephys_certification'\n",
    "\n",
    "eid, det = one.search(\n",
    "                      dataset_types=dataset_types,\n",
    "                      # users=users,\n",
    "                      # date_range=date_range,\n",
    "                      # task_protocol=task_protocol,\n",
    "                      details=True)\n",
    "print(len(eid))"
   ]
  },
  {
   "cell_type": "code",
   "execution_count": 19,
   "metadata": {
    "collapsed": false,
    "pycharm": {
     "name": "#%%\n"
    }
   },
   "outputs": [
    {
     "name": "stdout",
     "output_type": "stream",
     "text": [
      "Connected to https://dev.alyx.internationalbrainlab.org as saksham.sharda\n",
      "data written in C:\\Users\\Saksham\\Google Drive (sxs1790@case.edu)\\NWB\\IBL-to-nwb\\tests\\guitests\\ibl_metadata_eid_202e.yaml\n",
      "Connected to https://dev.alyx.internationalbrainlab.org as saksham.sharda\n",
      "\n",
      "create_stimulus\n",
      "Downloading: C:\\Users\\Saksham\\Downloads\\FlatIron\\zadorlab\\Subjects\\CSH_ZAD_022\\2020-05-28\\001\\alf\\_ibl_trials.intervals_bpod.ddc90081-f7e8-4a53-a5df-9f4155e7772c.npy Bytes: 10192\n",
      "Downloading: C:\\Users\\Saksham\\Downloads\\FlatIron\\zadorlab\\Subjects\\CSH_ZAD_022\\2020-05-28\\001\\alf\\_ibl_trials.intervals.5e1d4816-9835-44f3-ba47-218f4283a298.npy Bytes: 10192\n",
      "Downloading: C:\\Users\\Saksham\\Downloads\\FlatIron\\zadorlab\\Subjects\\CSH_ZAD_022\\2020-05-28\\001\\alf\\_ibl_trials.choice.028a8047-b8e1-4e23-bf9f-d0f138707803.npy Bytes: 5160\n",
      "Downloading: C:\\Users\\Saksham\\Downloads\\FlatIron\\zadorlab\\Subjects\\CSH_ZAD_022\\2020-05-28\\001\\alf\\_ibl_trials.contrastLeft.bcc85c03-3842-4b08-9b3a-6edba6e4b461.npy Bytes: 5160\n",
      "Downloading: C:\\Users\\Saksham\\Downloads\\FlatIron\\zadorlab\\Subjects\\CSH_ZAD_022\\2020-05-28\\001\\alf\\_ibl_trials.contrastRight.8d3fbea2-fde5-4367-aa0b-160e8d7d3713.npy Bytes: 5160\n",
      "Downloading: C:\\Users\\Saksham\\Downloads\\FlatIron\\zadorlab\\Subjects\\CSH_ZAD_022\\2020-05-28\\001\\alf\\_ibl_trials.feedbackType.f3f602db-e8d9-4c65-94b1-22f573d37447.npy Bytes: 5160\n",
      "Downloading: C:\\Users\\Saksham\\Downloads\\FlatIron\\zadorlab\\Subjects\\CSH_ZAD_022\\2020-05-28\\001\\alf\\_ibl_trials.feedback_times.07006587-df87-42f1-96a0-7096530ed5cd.npy Bytes: 5160\n",
      "Downloading: C:\\Users\\Saksham\\Downloads\\FlatIron\\zadorlab\\Subjects\\CSH_ZAD_022\\2020-05-28\\001\\alf\\_ibl_trials.goCueTrigger_times.268f8487-7201-4d92-9e8a-89762c327481.npy Bytes: 5160\n",
      "Downloading: C:\\Users\\Saksham\\Downloads\\FlatIron\\zadorlab\\Subjects\\CSH_ZAD_022\\2020-05-28\\001\\alf\\_ibl_trials.goCue_times.806f2c29-1b91-4de7-8903-30b719d19732.npy Bytes: 5160\n",
      "Downloading: C:\\Users\\Saksham\\Downloads\\FlatIron\\zadorlab\\Subjects\\CSH_ZAD_022\\2020-05-28\\001\\alf\\_ibl_trials.itiDuration.054f23ef-c176-44ee-b490-a8b0fc7831ec.npy Bytes: 5160\n",
      "Downloading: C:\\Users\\Saksham\\Downloads\\FlatIron\\zadorlab\\Subjects\\CSH_ZAD_022\\2020-05-28\\001\\alf\\_ibl_trials.probabilityLeft.c8b43b3d-5913-4d76-93cb-7d5dd443ebd1.npy Bytes: 5160\n",
      "Downloading: C:\\Users\\Saksham\\Downloads\\FlatIron\\zadorlab\\Subjects\\CSH_ZAD_022\\2020-05-28\\001\\alf\\_ibl_trials.response_times.7256a546-9f43-44a5-90a2-ec1421360bce.npy Bytes: 5160\n",
      "Downloading: C:\\Users\\Saksham\\Downloads\\FlatIron\\zadorlab\\Subjects\\CSH_ZAD_022\\2020-05-28\\001\\alf\\_ibl_trials.rewardVolume.d055b29b-44d4-4ddc-9517-57ee0e8bef14.npy Bytes: 5160\n",
      "Downloading: C:\\Users\\Saksham\\Downloads\\FlatIron\\zadorlab\\Subjects\\CSH_ZAD_022\\2020-05-28\\001\\alf\\_ibl_trials.stimOn_times.ac51891e-c80b-4e93-9bd9-479e9102da73.npy Bytes: 5160\n",
      " |████████████████████████████████████████████████████████████████████████████████████████████████████| 100.0% \r\n",
      "create_trials\n",
      "probe00 already exists in current NWBFile.\n",
      "Downloading: C:\\Users\\Saksham\\Downloads\\FlatIron\\zadorlab\\Subjects\\CSH_ZAD_022\\2020-05-28\\001\\alf\\probe00\\channels.localCoordinates.622528df-18a1-4f29-98e4-2a3e1361601f.npy Bytes: 6064\n",
      "Downloading: C:\\Users\\Saksham\\Downloads\\FlatIron\\zadorlab\\Subjects\\CSH_ZAD_022\\2020-05-28\\001\\alf\\probe00\\channels.rawInd.0e460bc6-71c5-49be-b650-290ad01f3f56.npy Bytes: 3120\n",
      " |████████████████████████████████████████████████████████████████████████████████████████████████████| 100.0% \r\n",
      "create_electrode_table_ecephys\n",
      "Downloading: C:\\Users\\Saksham\\Downloads\\FlatIron\\zadorlab\\Subjects\\CSH_ZAD_022\\2020-05-28\\001\\alf\\probe00\\spikes.times.cb1de7b8-8677-4fbe-83cf-f33ee0cc3ca0.npy Bytes: 73128896\n",
      "Downloading: C:\\Users\\Saksham\\Downloads\\FlatIron\\zadorlab\\Subjects\\CSH_ZAD_022\\2020-05-28\\001\\alf\\probe00\\spikes.amps.f1e8ba9c-cd7b-4f0d-92d8-ed5e4f41660a.npy Bytes: 73128896\n",
      "Downloading: C:\\Users\\Saksham\\Downloads\\FlatIron\\zadorlab\\Subjects\\CSH_ZAD_022\\2020-05-28\\001\\alf\\probe00\\spikes.clusters.62dac99e-6bab-4426-91b7-68ca29c961ee.npy Bytes: 36564512\n",
      "Downloading: C:\\Users\\Saksham\\Downloads\\FlatIron\\zadorlab\\Subjects\\CSH_ZAD_022\\2020-05-28\\001\\alf\\probe00\\spikes.depths.4d62d4f7-4300-4390-9933-646a16e72dce.npy Bytes: 73128896\n",
      "Downloading: C:\\Users\\Saksham\\Downloads\\FlatIron\\zadorlab\\Subjects\\CSH_ZAD_022\\2020-05-28\\001\\alf\\probe00\\spikes.samples.76937380-ffad-4ded-8a20-4660e90b0f51.npy Bytes: 73128896\n",
      " |████████████████████████████████████████████████████████████████████████████████████████████████████| 100.0% \r\n",
      "create_timeseries_ecephys\n",
      "Downloading: C:\\Users\\Saksham\\Downloads\\FlatIron\\zadorlab\\Subjects\\CSH_ZAD_022\\2020-05-28\\001\\alf\\probe00\\clusters.metrics.aa87437b-6f69-4e8f-ad12-d46ec19ebf31.csv Bytes: 45673\n",
      "Downloading: C:\\Users\\Saksham\\Downloads\\FlatIron\\zadorlab\\Subjects\\CSH_ZAD_022\\2020-05-28\\001\\alf\\probe00\\clusters.waveforms.83259195-9c8f-40d2-9616-168dab01897e.npy Bytes: 4324480\n",
      "Downloading: C:\\Users\\Saksham\\Downloads\\FlatIron\\zadorlab\\Subjects\\CSH_ZAD_022\\2020-05-28\\001\\alf\\probe00\\clusters.channels.b8c68c3a-7c9f-4c03-b07d-b6e3161d067b.npy Bytes: 3424\n",
      "Downloading: C:\\Users\\Saksham\\Downloads\\FlatIron\\zadorlab\\Subjects\\CSH_ZAD_022\\2020-05-28\\001\\alf\\probe00\\clusters.amps.0861e4a5-f374-48e6-8650-569dffafe641.npy Bytes: 3424\n",
      "Downloading: C:\\Users\\Saksham\\Downloads\\FlatIron\\zadorlab\\Subjects\\CSH_ZAD_022\\2020-05-28\\001\\alf\\probe00\\clusters.depths.5f42c28c-4cbb-4d6c-b0f5-2bf534fc090b.npy Bytes: 3424\n",
      "Downloading: C:\\Users\\Saksham\\Downloads\\FlatIron\\zadorlab\\Subjects\\CSH_ZAD_022\\2020-05-28\\001\\alf\\probe00\\clusters.peakToTrough.d0e3f511-1848-4da3-9088-ad22c3e0b863.npy Bytes: 3424\n",
      "Downloading: C:\\Users\\Saksham\\Downloads\\FlatIron\\zadorlab\\Subjects\\CSH_ZAD_022\\2020-05-28\\001\\alf\\probe00\\clusters.waveformsChannels.096e8d30-570a-442d-bd28-acdac1ae4ba2.npy Bytes: 52864\n",
      " |████████████████████████████████████████████████████████████████████████████████████████████████████| 100.0% \r\n",
      "create_units\n"
     ]
    },
    {
     "name": "stderr",
     "output_type": "stream",
     "text": [
      "C:\\Users\\Saksham\\Google Drive (sxs1790@case.edu)\\NWB\\IBL-to-nwb\\venv\\lib\\site-packages\\pynwb-1.3.0-py3.7.egg\\pynwb\\file.py:749: UserWarning: Date is missing timezone information. Updating to local timezone.\n",
      "  warn(\"Date is missing timezone information. Updating to local timezone.\")\n",
      " 40%|████      | 2/5 [00:43<01:05, 21.88s/it]2020-06-16 11:35:12.809 WARNING  [one.py:331] dataset channels.probes not found for session: 8b1ad76f-7f0a-44fa-89f7-060be21c202e\n",
      " 80%|████████  | 4/5 [10:06<02:58, 178.97s/it]2020-06-16 11:44:36.264 WARNING  [one.py:331] dataset clusters.brainAcronyms not found for session: 8b1ad76f-7f0a-44fa-89f7-060be21c202e\n",
      "2020-06-16 11:45:04.241 WARNING  [one.py:331] dataset clusters.probes not found for session: 8b1ad76f-7f0a-44fa-89f7-060be21c202e\n",
      "100%|██████████| 5/5 [10:59<00:00, 131.86s/it]\n",
      "C:\\Users\\Saksham\\Google Drive (sxs1790@case.edu)\\NWB\\IBL-to-nwb\\venv\\lib\\site-packages\\IPython\\core\\interactiveshell.py:3339: UserWarning: To exit: use 'exit', 'quit', or Ctrl-D.\n",
      "  warn(\"To exit: use 'exit', 'quit', or Ctrl-D.\", stacklevel=1)\n"
     ]
    },
    {
     "ename": "SystemExit",
     "evalue": "0",
     "output_type": "error",
     "traceback": [
      "An exception has occurred, use %tb to see the full traceback.\n",
      "\u001B[1;31mSystemExit\u001B[0m\u001B[1;31m:\u001B[0m 0\n"
     ]
    }
   ],
   "source": [
    "# Picking the first eid\n",
    "eid_list = ['1eed29f4-3311-4f54-8a6a-c2efa0675e4a','9946f5c9-e3b5-4358-afd8-f783f12f233b']\n",
    "eid = eid[1]\n",
    "nwbfile_saveloc=fr'C:\\Users\\Saksham\\Google Drive (sxs1790@case.edu)\\NWB\\IBL-to-nwb\\tests\\guitests\\iblguisave_{eid[-4:]}.nwb'\n",
    "metadata_fileloc=r'C:\\Users\\Saksham\\Google Drive (sxs1790@case.edu)\\NWB\\IBL-to-nwb\\tests\\guitests\\ibl_metadata.json'\n",
    "\n",
    "Alyx2NWBGui(eid=eid, nwbfile_saveloc=nwbfile_saveloc, metadata_fileloc=metadata_fileloc)\n",
    "\n"
   ]
  },
  {
   "cell_type": "code",
   "execution_count": null,
   "metadata": {
    "collapsed": false,
    "pycharm": {
     "name": "#%%\n"
    }
   },
   "outputs": [],
   "source": [
    "one.list(eid, 'dataset_types')\n",
    "\n"
   ]
  },
  {
   "cell_type": "code",
   "execution_count": null,
   "metadata": {
    "collapsed": false,
    "pycharm": {
     "name": "#%%\n"
    }
   },
   "outputs": [],
   "source": [
    "#Conversion using API:\n",
    "# MEtadata:-------------------\n",
    "metadatafileloc=r'C:\\Users\\Saksham\\Google Drive (sxs1790@case.edu)\\NWB\\IBL-to-nwb\\tests\\APItests\\medatafile.json'\n",
    "metadata_obj = Alyx2NWBMetadata(eid=eid)\n",
    "metadata_obj.write_metadata(metadatafileloc)\n",
    "\n",
    "# Conversion:----------------\n",
    "filepath=metadatafileloc\n",
    "nwb_data_obj=Alyx2NWBConverter(nwb_metadata_file=filepath,\n",
    "                        saveloc=r'C:\\Users\\Saksham\\Google Drive (sxs1790@case.edu)\\NWB\\IBL-to-nwb\\tests\\APItests\\IBl_data.nwb')\n",
    "nwb_data_obj.run_conversion()\n",
    "nwb_data_obj.write_nwb()\n",
    "\n"
   ]
  }
 ],
 "metadata": {
  "kernelspec": {
   "display_name": "Python 3",
   "language": "python",
   "name": "python3"
  },
  "language_info": {
   "codemirror_mode": {
    "name": "ipython",
    "version": 3
   },
   "file_extension": ".py",
   "mimetype": "text/x-python",
   "name": "python",
   "nbconvert_exporter": "python",
   "pygments_lexer": "ipython3",
   "version": "3.7.4"
  }
 },
 "nbformat": 4,
 "nbformat_minor": 2
}